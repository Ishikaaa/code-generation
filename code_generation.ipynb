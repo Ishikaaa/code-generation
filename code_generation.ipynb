{
  "nbformat": 4,
  "nbformat_minor": 0,
  "metadata": {
    "colab": {
      "provenance": [],
      "authorship_tag": "ABX9TyNxbUhGjjJZEx18Ke0ft3p4",
      "include_colab_link": true
    },
    "kernelspec": {
      "name": "python3",
      "display_name": "Python 3"
    },
    "language_info": {
      "name": "python"
    }
  },
  "cells": [
    {
      "cell_type": "markdown",
      "metadata": {
        "id": "view-in-github",
        "colab_type": "text"
      },
      "source": [
        "<a href=\"https://colab.research.google.com/github/Ishikaaa/code-generation/blob/main/code_generation.ipynb\" target=\"_parent\"><img src=\"https://colab.research.google.com/assets/colab-badge.svg\" alt=\"Open In Colab\"/></a>"
      ]
    },
    {
      "cell_type": "code",
      "execution_count": null,
      "metadata": {
        "id": "ToubaE7YFViU"
      },
      "outputs": [],
      "source": [
        "from transformers import AutoModelForCausalLM, AutoTokenizer\n",
        "import torch\n",
        "import time\n",
        "\n",
        "\n",
        "def train_model():\n",
        "    model_name = \"Salesforce/codegen-350M-mono\"\n",
        "    # model_name = \"CodeGen2.5-7B-instruct\"\n",
        "    # model_name = \"Salesforce/codegen25-7b-instruct_P\"\n",
        "    tokenizer = AutoTokenizer.from_pretrained(model_name)\n",
        "    model = AutoModelForCausalLM.from_pretrained(model_name)\n",
        "    return tokenizer, model\n",
        "\n",
        "\n",
        "def generate_code(prompt, tokenizer, model):\n",
        "    start_time = time.time()\n",
        "    # Tokenize the prompt\n",
        "    inputs = tokenizer(prompt, return_tensors=\"pt\")\n",
        "\n",
        "    # Generate code\n",
        "    with torch.no_grad():\n",
        "        outputs = model.generate(\n",
        "            inputs.input_ids,\n",
        "            max_length=128,\n",
        "            num_return_sequences=1,\n",
        "            pad_token_id=tokenizer.eos_token_id\n",
        "        )\n",
        "\n",
        "    # Decode the generated code\n",
        "    generated_code = tokenizer.decode(outputs[0], skip_special_tokens=True)\n",
        "    end_time = time.time()\n",
        "\n",
        "    print(\"Question: \", prompt)\n",
        "    print(\"Time to generate code: \", end_time - start_time)\n",
        "    print(generated_code)\n",
        "\n",
        "\n",
        "if __name__ == \"__main__\":\n",
        "    # Step1 - Load the tokenizer and model\n",
        "    tokenizer, trained_model = train_model()\n",
        "\n",
        "    # Step2 - Generate code\n",
        "    question = \"def fibonacci(n):\"\n",
        "    generate_code(question, tokenizer, trained_model)\n"
      ]
    }
  ]
}